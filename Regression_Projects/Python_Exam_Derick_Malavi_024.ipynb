{
 "cells": [
  {
   "cell_type": "markdown",
   "id": "ec8103c9",
   "metadata": {},
   "source": [
    "## <b> <center> Python Exam - Part 2 Practical</center> </b>"
   ]
  },
  {
   "cell_type": "code",
   "execution_count": 1,
   "id": "4b9da3d6",
   "metadata": {},
   "outputs": [],
   "source": [
    "# Import libraries/packages\n",
    "\n",
    "import pandas as pd\n",
    "import numpy as np\n",
    "import matplotlib.pyplot as plt\n",
    "import seaborn as sns\n",
    "import os "
   ]
  },
  {
   "cell_type": "code",
   "execution_count": 2,
   "id": "15fd6e76",
   "metadata": {},
   "outputs": [],
   "source": [
    "# Set the working directory\n",
    "\n",
    "file_path = (\"C:\\\\Users\\\\abc\\\\OneDrive - UGent\\\\Documenten\\\\Derick Malavi_PhD Docs_UGent\\\\Professional Courses\\\\ALX Data Science\\\\Python\\\\MD_agric_exam.csv\")"
   ]
  },
  {
   "cell_type": "code",
   "execution_count": 3,
   "id": "4ef9f3da",
   "metadata": {},
   "outputs": [],
   "source": [
    "# Import the csv file\n",
    "\n",
    "MD_data = pd.read_csv(file_path)"
   ]
  },
  {
   "cell_type": "code",
   "execution_count": 4,
   "id": "dd00fce7",
   "metadata": {},
   "outputs": [
    {
     "data": {
      "text/html": [
       "<div>\n",
       "<style scoped>\n",
       "    .dataframe tbody tr th:only-of-type {\n",
       "        vertical-align: middle;\n",
       "    }\n",
       "\n",
       "    .dataframe tbody tr th {\n",
       "        vertical-align: top;\n",
       "    }\n",
       "\n",
       "    .dataframe thead th {\n",
       "        text-align: right;\n",
       "    }\n",
       "</style>\n",
       "<table border=\"1\" class=\"dataframe\">\n",
       "  <thead>\n",
       "    <tr style=\"text-align: right;\">\n",
       "      <th></th>\n",
       "      <th>Field_ID</th>\n",
       "      <th>Elevation</th>\n",
       "      <th>Rainfall</th>\n",
       "      <th>Min_temperature_C</th>\n",
       "      <th>Max_temperature_C</th>\n",
       "      <th>pH</th>\n",
       "      <th>Pollution_level</th>\n",
       "      <th>Plot_size</th>\n",
       "      <th>Annual_yield</th>\n",
       "      <th>Crop_type</th>\n",
       "    </tr>\n",
       "  </thead>\n",
       "  <tbody>\n",
       "    <tr>\n",
       "      <th>0</th>\n",
       "      <td>1162</td>\n",
       "      <td>494.95615</td>\n",
       "      <td>1507.6</td>\n",
       "      <td>-5.4</td>\n",
       "      <td>31.0</td>\n",
       "      <td>6.859436</td>\n",
       "      <td>0.007034</td>\n",
       "      <td>3.6</td>\n",
       "      <td>1.617421</td>\n",
       "      <td>coffee</td>\n",
       "    </tr>\n",
       "    <tr>\n",
       "      <th>1</th>\n",
       "      <td>5108</td>\n",
       "      <td>663.73390</td>\n",
       "      <td>581.0</td>\n",
       "      <td>-4.7</td>\n",
       "      <td>30.9</td>\n",
       "      <td>5.603219</td>\n",
       "      <td>0.289643</td>\n",
       "      <td>4.2</td>\n",
       "      <td>2.532497</td>\n",
       "      <td>potato</td>\n",
       "    </tr>\n",
       "    <tr>\n",
       "      <th>2</th>\n",
       "      <td>3504</td>\n",
       "      <td>396.87990</td>\n",
       "      <td>1715.1</td>\n",
       "      <td>-6.1</td>\n",
       "      <td>31.7</td>\n",
       "      <td>5.774116</td>\n",
       "      <td>0.000409</td>\n",
       "      <td>2.6</td>\n",
       "      <td>1.262207</td>\n",
       "      <td>banana</td>\n",
       "    </tr>\n",
       "    <tr>\n",
       "      <th>3</th>\n",
       "      <td>5351</td>\n",
       "      <td>594.80370</td>\n",
       "      <td>1748.0</td>\n",
       "      <td>-4.3</td>\n",
       "      <td>33.6</td>\n",
       "      <td>6.477415</td>\n",
       "      <td>0.088777</td>\n",
       "      <td>7.9</td>\n",
       "      <td>4.351564</td>\n",
       "      <td>wheat</td>\n",
       "    </tr>\n",
       "    <tr>\n",
       "      <th>4</th>\n",
       "      <td>905</td>\n",
       "      <td>609.49800</td>\n",
       "      <td>1395.8</td>\n",
       "      <td>-4.5</td>\n",
       "      <td>31.3</td>\n",
       "      <td>5.419586</td>\n",
       "      <td>0.050023</td>\n",
       "      <td>10.8</td>\n",
       "      <td>5.034791</td>\n",
       "      <td>cassava</td>\n",
       "    </tr>\n",
       "    <tr>\n",
       "      <th>5</th>\n",
       "      <td>2274</td>\n",
       "      <td>270.45100</td>\n",
       "      <td>1665.2</td>\n",
       "      <td>-7.2</td>\n",
       "      <td>34.3</td>\n",
       "      <td>5.873082</td>\n",
       "      <td>0.001545</td>\n",
       "      <td>3.9</td>\n",
       "      <td>1.743458</td>\n",
       "      <td>banana</td>\n",
       "    </tr>\n",
       "  </tbody>\n",
       "</table>\n",
       "</div>"
      ],
      "text/plain": [
       "   Field_ID  Elevation  Rainfall  Min_temperature_C  Max_temperature_C  \\\n",
       "0      1162  494.95615    1507.6               -5.4               31.0   \n",
       "1      5108  663.73390     581.0               -4.7               30.9   \n",
       "2      3504  396.87990    1715.1               -6.1               31.7   \n",
       "3      5351  594.80370    1748.0               -4.3               33.6   \n",
       "4       905  609.49800    1395.8               -4.5               31.3   \n",
       "5      2274  270.45100    1665.2               -7.2               34.3   \n",
       "\n",
       "         pH  Pollution_level  Plot_size  Annual_yield Crop_type  \n",
       "0  6.859436         0.007034        3.6      1.617421    coffee  \n",
       "1  5.603219         0.289643        4.2      2.532497    potato  \n",
       "2  5.774116         0.000409        2.6      1.262207    banana  \n",
       "3  6.477415         0.088777        7.9      4.351564     wheat  \n",
       "4  5.419586         0.050023       10.8      5.034791   cassava  \n",
       "5  5.873082         0.001545        3.9      1.743458    banana  "
      ]
     },
     "execution_count": 4,
     "metadata": {},
     "output_type": "execute_result"
    }
   ],
   "source": [
    "# Check the first few rows\n",
    "\n",
    "MD_data.head(6)"
   ]
  },
  {
   "cell_type": "code",
   "execution_count": 5,
   "id": "ad71e7bb",
   "metadata": {},
   "outputs": [
    {
     "data": {
      "text/html": [
       "<div>\n",
       "<style scoped>\n",
       "    .dataframe tbody tr th:only-of-type {\n",
       "        vertical-align: middle;\n",
       "    }\n",
       "\n",
       "    .dataframe tbody tr th {\n",
       "        vertical-align: top;\n",
       "    }\n",
       "\n",
       "    .dataframe thead th {\n",
       "        text-align: right;\n",
       "    }\n",
       "</style>\n",
       "<table border=\"1\" class=\"dataframe\">\n",
       "  <thead>\n",
       "    <tr style=\"text-align: right;\">\n",
       "      <th></th>\n",
       "      <th>Field_ID</th>\n",
       "      <th>Elevation</th>\n",
       "      <th>Rainfall</th>\n",
       "      <th>Min_temperature_C</th>\n",
       "      <th>Max_temperature_C</th>\n",
       "      <th>pH</th>\n",
       "      <th>Pollution_level</th>\n",
       "      <th>Plot_size</th>\n",
       "      <th>Annual_yield</th>\n",
       "      <th>Crop_type</th>\n",
       "    </tr>\n",
       "  </thead>\n",
       "  <tbody>\n",
       "    <tr>\n",
       "      <th>994</th>\n",
       "      <td>3424</td>\n",
       "      <td>605.52277</td>\n",
       "      <td>1080.6</td>\n",
       "      <td>-4.8</td>\n",
       "      <td>30.7</td>\n",
       "      <td>4.984128</td>\n",
       "      <td>0.327851</td>\n",
       "      <td>3.7</td>\n",
       "      <td>2.102438</td>\n",
       "      <td>potato</td>\n",
       "    </tr>\n",
       "    <tr>\n",
       "      <th>995</th>\n",
       "      <td>2202</td>\n",
       "      <td>572.95935</td>\n",
       "      <td>625.6</td>\n",
       "      <td>-5.5</td>\n",
       "      <td>31.0</td>\n",
       "      <td>5.258964</td>\n",
       "      <td>0.086330</td>\n",
       "      <td>1.2</td>\n",
       "      <td>0.750675</td>\n",
       "      <td>wheat</td>\n",
       "    </tr>\n",
       "    <tr>\n",
       "      <th>996</th>\n",
       "      <td>2531</td>\n",
       "      <td>552.80945</td>\n",
       "      <td>398.1</td>\n",
       "      <td>-5.9</td>\n",
       "      <td>33.4</td>\n",
       "      <td>4.607136</td>\n",
       "      <td>0.130178</td>\n",
       "      <td>0.8</td>\n",
       "      <td>0.449790</td>\n",
       "      <td>wheat</td>\n",
       "    </tr>\n",
       "    <tr>\n",
       "      <th>997</th>\n",
       "      <td>1040</td>\n",
       "      <td>678.22504</td>\n",
       "      <td>564.4</td>\n",
       "      <td>-4.6</td>\n",
       "      <td>31.7</td>\n",
       "      <td>5.567556</td>\n",
       "      <td>0.448149</td>\n",
       "      <td>1.2</td>\n",
       "      <td>0.492988</td>\n",
       "      <td>maize</td>\n",
       "    </tr>\n",
       "    <tr>\n",
       "      <th>998</th>\n",
       "      <td>58</td>\n",
       "      <td>792.65370</td>\n",
       "      <td>928.5</td>\n",
       "      <td>-3.3</td>\n",
       "      <td>31.2</td>\n",
       "      <td>5.102048</td>\n",
       "      <td>0.387350</td>\n",
       "      <td>1.1</td>\n",
       "      <td>0.597557</td>\n",
       "      <td>potato</td>\n",
       "    </tr>\n",
       "    <tr>\n",
       "      <th>999</th>\n",
       "      <td>3334</td>\n",
       "      <td>747.69850</td>\n",
       "      <td>981.5</td>\n",
       "      <td>-3.7</td>\n",
       "      <td>31.0</td>\n",
       "      <td>6.715882</td>\n",
       "      <td>0.541706</td>\n",
       "      <td>11.1</td>\n",
       "      <td>2.867815</td>\n",
       "      <td>coffee</td>\n",
       "    </tr>\n",
       "  </tbody>\n",
       "</table>\n",
       "</div>"
      ],
      "text/plain": [
       "     Field_ID  Elevation  Rainfall  Min_temperature_C  Max_temperature_C  \\\n",
       "994      3424  605.52277    1080.6               -4.8               30.7   \n",
       "995      2202  572.95935     625.6               -5.5               31.0   \n",
       "996      2531  552.80945     398.1               -5.9               33.4   \n",
       "997      1040  678.22504     564.4               -4.6               31.7   \n",
       "998        58  792.65370     928.5               -3.3               31.2   \n",
       "999      3334  747.69850     981.5               -3.7               31.0   \n",
       "\n",
       "           pH  Pollution_level  Plot_size  Annual_yield Crop_type  \n",
       "994  4.984128         0.327851        3.7      2.102438    potato  \n",
       "995  5.258964         0.086330        1.2      0.750675     wheat  \n",
       "996  4.607136         0.130178        0.8      0.449790     wheat  \n",
       "997  5.567556         0.448149        1.2      0.492988     maize  \n",
       "998  5.102048         0.387350        1.1      0.597557    potato  \n",
       "999  6.715882         0.541706       11.1      2.867815    coffee  "
      ]
     },
     "execution_count": 5,
     "metadata": {},
     "output_type": "execute_result"
    }
   ],
   "source": [
    "# Check the last few rows\n",
    "MD_data.tail(6)"
   ]
  },
  {
   "cell_type": "code",
   "execution_count": 6,
   "id": "e4983ae2",
   "metadata": {},
   "outputs": [
    {
     "data": {
      "text/plain": [
       "(1000, 10)"
      ]
     },
     "execution_count": 6,
     "metadata": {},
     "output_type": "execute_result"
    }
   ],
   "source": [
    "# Check the number of rows and columns\n",
    "MD_data.shape # The data set has 1000 observations and 10 covariates"
   ]
  },
  {
   "cell_type": "code",
   "execution_count": 7,
   "id": "f5ab0538",
   "metadata": {},
   "outputs": [
    {
     "data": {
      "text/html": [
       "<div>\n",
       "<style scoped>\n",
       "    .dataframe tbody tr th:only-of-type {\n",
       "        vertical-align: middle;\n",
       "    }\n",
       "\n",
       "    .dataframe tbody tr th {\n",
       "        vertical-align: top;\n",
       "    }\n",
       "\n",
       "    .dataframe thead th {\n",
       "        text-align: right;\n",
       "    }\n",
       "</style>\n",
       "<table border=\"1\" class=\"dataframe\">\n",
       "  <thead>\n",
       "    <tr style=\"text-align: right;\">\n",
       "      <th></th>\n",
       "      <th>Field_ID</th>\n",
       "      <th>Elevation</th>\n",
       "      <th>Rainfall</th>\n",
       "      <th>Min_temperature_C</th>\n",
       "      <th>Max_temperature_C</th>\n",
       "      <th>pH</th>\n",
       "      <th>Pollution_level</th>\n",
       "      <th>Plot_size</th>\n",
       "      <th>Annual_yield</th>\n",
       "    </tr>\n",
       "  </thead>\n",
       "  <tbody>\n",
       "    <tr>\n",
       "      <th>count</th>\n",
       "      <td>1000.000000</td>\n",
       "      <td>1000.000000</td>\n",
       "      <td>1000.000000</td>\n",
       "      <td>1000.000000</td>\n",
       "      <td>1000.00000</td>\n",
       "      <td>1000.000000</td>\n",
       "      <td>1.000000e+03</td>\n",
       "      <td>1000.000000</td>\n",
       "      <td>1000.000000</td>\n",
       "    </tr>\n",
       "    <tr>\n",
       "      <th>mean</th>\n",
       "      <td>2779.486000</td>\n",
       "      <td>628.136035</td>\n",
       "      <td>1197.734700</td>\n",
       "      <td>-4.504100</td>\n",
       "      <td>30.89460</td>\n",
       "      <td>5.603899</td>\n",
       "      <td>2.233740e-01</td>\n",
       "      <td>3.962400</td>\n",
       "      <td>2.101536</td>\n",
       "    </tr>\n",
       "    <tr>\n",
       "      <th>std</th>\n",
       "      <td>1595.068372</td>\n",
       "      <td>179.098546</td>\n",
       "      <td>497.794699</td>\n",
       "      <td>1.568117</td>\n",
       "      <td>1.92225</td>\n",
       "      <td>0.802154</td>\n",
       "      <td>2.288665e-01</td>\n",
       "      <td>3.459036</td>\n",
       "      <td>1.926694</td>\n",
       "    </tr>\n",
       "    <tr>\n",
       "      <th>min</th>\n",
       "      <td>1.000000</td>\n",
       "      <td>35.910797</td>\n",
       "      <td>110.100000</td>\n",
       "      <td>-9.700000</td>\n",
       "      <td>25.10000</td>\n",
       "      <td>3.701838</td>\n",
       "      <td>5.397448e-10</td>\n",
       "      <td>0.500000</td>\n",
       "      <td>0.174857</td>\n",
       "    </tr>\n",
       "    <tr>\n",
       "      <th>25%</th>\n",
       "      <td>1442.250000</td>\n",
       "      <td>504.392825</td>\n",
       "      <td>771.575000</td>\n",
       "      <td>-5.600000</td>\n",
       "      <td>29.57500</td>\n",
       "      <td>5.018775</td>\n",
       "      <td>4.449419e-02</td>\n",
       "      <td>1.500000</td>\n",
       "      <td>0.786612</td>\n",
       "    </tr>\n",
       "    <tr>\n",
       "      <th>50%</th>\n",
       "      <td>2728.500000</td>\n",
       "      <td>657.468975</td>\n",
       "      <td>1194.900000</td>\n",
       "      <td>-4.400000</td>\n",
       "      <td>30.90000</td>\n",
       "      <td>5.562078</td>\n",
       "      <td>1.661962e-01</td>\n",
       "      <td>2.900000</td>\n",
       "      <td>1.478622</td>\n",
       "    </tr>\n",
       "    <tr>\n",
       "      <th>75%</th>\n",
       "      <td>4133.000000</td>\n",
       "      <td>761.075752</td>\n",
       "      <td>1616.900000</td>\n",
       "      <td>-3.300000</td>\n",
       "      <td>32.20000</td>\n",
       "      <td>6.201437</td>\n",
       "      <td>3.077840e-01</td>\n",
       "      <td>4.700000</td>\n",
       "      <td>2.519811</td>\n",
       "    </tr>\n",
       "    <tr>\n",
       "      <th>max</th>\n",
       "      <td>5632.000000</td>\n",
       "      <td>1003.943700</td>\n",
       "      <td>2408.500000</td>\n",
       "      <td>-1.200000</td>\n",
       "      <td>37.30000</td>\n",
       "      <td>7.484683</td>\n",
       "      <td>9.954134e-01</td>\n",
       "      <td>15.000000</td>\n",
       "      <td>12.695224</td>\n",
       "    </tr>\n",
       "  </tbody>\n",
       "</table>\n",
       "</div>"
      ],
      "text/plain": [
       "          Field_ID    Elevation     Rainfall  Min_temperature_C  \\\n",
       "count  1000.000000  1000.000000  1000.000000        1000.000000   \n",
       "mean   2779.486000   628.136035  1197.734700          -4.504100   \n",
       "std    1595.068372   179.098546   497.794699           1.568117   \n",
       "min       1.000000    35.910797   110.100000          -9.700000   \n",
       "25%    1442.250000   504.392825   771.575000          -5.600000   \n",
       "50%    2728.500000   657.468975  1194.900000          -4.400000   \n",
       "75%    4133.000000   761.075752  1616.900000          -3.300000   \n",
       "max    5632.000000  1003.943700  2408.500000          -1.200000   \n",
       "\n",
       "       Max_temperature_C           pH  Pollution_level    Plot_size  \\\n",
       "count         1000.00000  1000.000000     1.000000e+03  1000.000000   \n",
       "mean            30.89460     5.603899     2.233740e-01     3.962400   \n",
       "std              1.92225     0.802154     2.288665e-01     3.459036   \n",
       "min             25.10000     3.701838     5.397448e-10     0.500000   \n",
       "25%             29.57500     5.018775     4.449419e-02     1.500000   \n",
       "50%             30.90000     5.562078     1.661962e-01     2.900000   \n",
       "75%             32.20000     6.201437     3.077840e-01     4.700000   \n",
       "max             37.30000     7.484683     9.954134e-01    15.000000   \n",
       "\n",
       "       Annual_yield  \n",
       "count   1000.000000  \n",
       "mean       2.101536  \n",
       "std        1.926694  \n",
       "min        0.174857  \n",
       "25%        0.786612  \n",
       "50%        1.478622  \n",
       "75%        2.519811  \n",
       "max       12.695224  "
      ]
     },
     "execution_count": 7,
     "metadata": {},
     "output_type": "execute_result"
    }
   ],
   "source": [
    "# Statistical summary \n",
    "\n",
    "MD_data.describe()"
   ]
  },
  {
   "cell_type": "code",
   "execution_count": 8,
   "id": "d0ab922f",
   "metadata": {},
   "outputs": [
    {
     "data": {
      "text/plain": [
       "Field_ID             0\n",
       "Elevation            0\n",
       "Rainfall             0\n",
       "Min_temperature_C    0\n",
       "Max_temperature_C    0\n",
       "pH                   0\n",
       "Pollution_level      0\n",
       "Plot_size            0\n",
       "Annual_yield         0\n",
       "Crop_type            0\n",
       "dtype: int64"
      ]
     },
     "execution_count": 8,
     "metadata": {},
     "output_type": "execute_result"
    }
   ],
   "source": [
    "# Check for any missing values\n",
    "\n",
    "MD_data.isnull().sum()"
   ]
  },
  {
   "cell_type": "code",
   "execution_count": 9,
   "id": "69434836",
   "metadata": {},
   "outputs": [
    {
     "name": "stdout",
     "output_type": "stream",
     "text": [
      "There are 8 unique crop types in our dataset\n"
     ]
    }
   ],
   "source": [
    "# Number of unique crop types in the dataset\n",
    "\n",
    "unique_crop_types = MD_data['Crop_type'].nunique()\n",
    "\n",
    "print(f'There are {unique_crop_types} unique crop types in our dataset')"
   ]
  },
  {
   "cell_type": "code",
   "execution_count": 10,
   "id": "9b1a85be",
   "metadata": {},
   "outputs": [
    {
     "data": {
      "text/html": [
       "<div>\n",
       "<style scoped>\n",
       "    .dataframe tbody tr th:only-of-type {\n",
       "        vertical-align: middle;\n",
       "    }\n",
       "\n",
       "    .dataframe tbody tr th {\n",
       "        vertical-align: top;\n",
       "    }\n",
       "\n",
       "    .dataframe thead th {\n",
       "        text-align: right;\n",
       "    }\n",
       "</style>\n",
       "<table border=\"1\" class=\"dataframe\">\n",
       "  <thead>\n",
       "    <tr style=\"text-align: right;\">\n",
       "      <th></th>\n",
       "      <th>Crop_type</th>\n",
       "      <th>Annual_yield</th>\n",
       "    </tr>\n",
       "  </thead>\n",
       "  <tbody>\n",
       "    <tr>\n",
       "      <th>0</th>\n",
       "      <td>banana</td>\n",
       "      <td>7.44</td>\n",
       "    </tr>\n",
       "    <tr>\n",
       "      <th>1</th>\n",
       "      <td>cassava</td>\n",
       "      <td>7.73</td>\n",
       "    </tr>\n",
       "    <tr>\n",
       "      <th>2</th>\n",
       "      <td>coffee</td>\n",
       "      <td>7.36</td>\n",
       "    </tr>\n",
       "    <tr>\n",
       "      <th>3</th>\n",
       "      <td>maize</td>\n",
       "      <td>8.65</td>\n",
       "    </tr>\n",
       "    <tr>\n",
       "      <th>4</th>\n",
       "      <td>potato</td>\n",
       "      <td>8.87</td>\n",
       "    </tr>\n",
       "    <tr>\n",
       "      <th>5</th>\n",
       "      <td>rice</td>\n",
       "      <td>10.51</td>\n",
       "    </tr>\n",
       "    <tr>\n",
       "      <th>6</th>\n",
       "      <td>tea</td>\n",
       "      <td>12.70</td>\n",
       "    </tr>\n",
       "    <tr>\n",
       "      <th>7</th>\n",
       "      <td>wheat</td>\n",
       "      <td>8.99</td>\n",
       "    </tr>\n",
       "  </tbody>\n",
       "</table>\n",
       "</div>"
      ],
      "text/plain": [
       "  Crop_type  Annual_yield\n",
       "0    banana          7.44\n",
       "1   cassava          7.73\n",
       "2    coffee          7.36\n",
       "3     maize          8.65\n",
       "4    potato          8.87\n",
       "5      rice         10.51\n",
       "6       tea         12.70\n",
       "7     wheat          8.99"
      ]
     },
     "execution_count": 10,
     "metadata": {},
     "output_type": "execute_result"
    }
   ],
   "source": [
    "# Maximum annual yield all the crops\n",
    "\n",
    "max_annual_yield = MD_data.groupby('Crop_type')['Annual_yield'].max().round(2).reset_index()\n",
    "\n",
    "max_annual_yield\n"
   ]
  },
  {
   "cell_type": "code",
   "execution_count": 11,
   "id": "0ae2203d",
   "metadata": {},
   "outputs": [
    {
     "data": {
      "text/plain": [
       "8.99"
      ]
     },
     "execution_count": 11,
     "metadata": {},
     "output_type": "execute_result"
    }
   ],
   "source": [
    "max_annual_yield_wheat = MD_data[MD_data['Crop_type'] == 'wheat']['Annual_yield'].max()\n",
    "round(max_annual_yield_wheat,2)"
   ]
  },
  {
   "cell_type": "code",
   "execution_count": 12,
   "id": "23108419",
   "metadata": {},
   "outputs": [
    {
     "name": "stdout",
     "output_type": "stream",
     "text": [
      "Crop_type\n",
      "banana     32765.4\n",
      "cassava    90085.7\n",
      "coffee     51655.2\n",
      "maize      38110.5\n",
      "potato     66653.0\n",
      "rice        6362.4\n",
      "tea        93523.5\n",
      "wheat      99746.9\n",
      "Name: Rainfall, dtype: float64\n"
     ]
    }
   ],
   "source": [
    "# Total rainfall for crop types where the average pollution level is above 0.2 (grouped by crop type)\n",
    "\n",
    "# Filter the DataFrame where Pollution_level is greater than 0.2\n",
    "filtered_data = MD_data[MD_data['Pollution_level'] > 0.2]\n",
    "\n",
    "# Group by Crop_type and calculate the mean Rainfall\n",
    "total_rainfall = filtered_data.groupby(\"Crop_type\")['Rainfall'].sum()\n",
    "\n",
    "print(total_rainfall)\n"
   ]
  },
  {
   "cell_type": "code",
   "execution_count": 13,
   "id": "bf81641b",
   "metadata": {},
   "outputs": [
    {
     "name": "stdout",
     "output_type": "stream",
     "text": [
      "478902.6\n"
     ]
    }
   ],
   "source": [
    "# Total rainfall for crop types where the average pollution level is above 0.2 (without groupings)\n",
    "\n",
    "total_rainfall_2 = filtered_data['Rainfall'].sum().round(2)\n",
    "\n",
    "print(total_rainfall_2)\n"
   ]
  },
  {
   "cell_type": "code",
   "execution_count": 14,
   "id": "890a45db",
   "metadata": {},
   "outputs": [
    {
     "name": "stdout",
     "output_type": "stream",
     "text": [
      "     Field_ID  temp_range\n",
      "135      1458        40.7\n",
      "644      1895        35.7\n",
      "892      5443        33.4\n"
     ]
    }
   ],
   "source": [
    "# A function to calculate the temperature range (Max_temperature_C - Min_temperature_C) for each farmer's field. \n",
    "\n",
    "MD_data['temp_range'] = MD_data['Max_temperature_C'] - MD_data['Min_temperature_C']\n",
    "MD_data.head()\n",
    "\n",
    "# Then, call the function with the following `Field_ID`: `1458`, `1895`, and `5443`.\n",
    "\n",
    "filtered_data_temp = MD_data[['Field_ID','temp_range']]\n",
    "\n",
    "#Check selected IDs\n",
    "\n",
    "# Filter the DataFrame to include only specified Field_IDs\n",
    "filtered_data_temp_IDs = filtered_data_temp[filtered_data_temp['Field_ID'].isin([1458, 1895, 5443])]\n",
    "\n",
    "print(filtered_data_temp_IDs)\n"
   ]
  },
  {
   "cell_type": "code",
   "execution_count": 15,
   "id": "c5517891",
   "metadata": {},
   "outputs": [
    {
     "name": "stdout",
     "output_type": "stream",
     "text": [
      "The total plot size for plots where the pH is less than 5.5 is Plot_size    1731.90\n",
      "pH           2305.26\n",
      "dtype: float64\n"
     ]
    }
   ],
   "source": [
    "# Code to calculate the total plot size for plots where the pH is less than 5.5.\n",
    "\n",
    "total_plot_size = MD_data[['Plot_size','pH']]\n",
    "filtered_plot_size = total_plot_size[total_plot_size['pH'] < 5.5].sum().round(2)\n",
    "\n",
    "print(f'The total plot size for plots where the pH is less than 5.5 is {filtered_plot_size}')"
   ]
  },
  {
   "cell_type": "code",
   "execution_count": 16,
   "id": "683256e3",
   "metadata": {},
   "outputs": [
    {
     "name": "stdout",
     "output_type": "stream",
     "text": [
      "The total number of rows affected are 319\n"
     ]
    }
   ],
   "source": [
    "# Create a dataframe that includes entries with a 'Min_temperature_C’< -5 and a 'Max_temperature_C' > 30. \n",
    "\n",
    "df_temp = MD_data[(MD_data['Min_temperature_C'] < -5) & (MD_data['Max_temperature_C'] > 30)]\n",
    "\n",
    "# How many rows are in the filtered dataset?\n",
    "\n",
    "no_rows = df_temp['Field_ID']. count()\n",
    "\n",
    "print(f'The total number of rows affected are {no_rows}')"
   ]
  },
  {
   "cell_type": "code",
   "execution_count": 17,
   "id": "5db4903d",
   "metadata": {},
   "outputs": [
    {
     "name": "stdout",
     "output_type": "stream",
     "text": [
      "The standard deviation of the rainfall for plots where plot size is larger than the median plot size of the dataset is 470.09\n"
     ]
    }
   ],
   "source": [
    "# Using Numpy, calculate the standard deviation of the 'Rainfall' for plots where the 'Plot_size' \n",
    "#is larger than the median plot size of the dataset (round to 2 decimal places).\n",
    "\n",
    "median_plot_size = MD_data['Plot_size'].median()\n",
    "\n",
    "plot_size_greater_than_median = MD_data[MD_data['Plot_size'] > median_plot_size]\n",
    "\n",
    "stdev_of_rainfall = np.round(np.std(plot_size_greater_than_median['Rainfall'], ddof=1), 2)\n",
    "\n",
    "print(f'The standard deviation of the rainfall for plots where plot size is larger than the median plot size of the dataset is {stdev_of_rainfall}')"
   ]
  },
  {
   "cell_type": "code",
   "execution_count": 18,
   "id": "e8c0387b",
   "metadata": {},
   "outputs": [
    {
     "name": "stdout",
     "output_type": "stream",
     "text": [
      "The most common maximum temperature is 0    30.7\n",
      "Name: Max_temperature_C, dtype: float64\n",
      "Crop_type\n",
      "rice        48\n",
      "maize       82\n",
      "coffee      99\n",
      "banana     103\n",
      "tea        137\n",
      "cassava    141\n",
      "potato     146\n",
      "wheat      244\n",
      "Name: Crop_type, dtype: int64\n",
      "30.7ice\n"
     ]
    }
   ],
   "source": [
    "# If you concatenate the first three digits of the most common ‘Max_temperature_C’ with the last three letters of the least common 'Crop_type', what string do you get?\n",
    "# Note: Use the first mode if there are multiple modes\n",
    "\n",
    "mode_temp = MD_data['Max_temperature_C'].mode()\n",
    "\n",
    "print(f'The most common maximum temperature is {mode_temp}')\n",
    "\n",
    "# Least common crop type\n",
    "\n",
    "crop_type = MD_data.groupby('Crop_type')['Crop_type'].count().sort_values(ascending=True)\n",
    "\n",
    "print(crop_type)\n",
    "\n",
    "# Concatenate \n",
    "\n",
    "conc_text = str(30.7) + 'ice'\n",
    "\n",
    "print(conc_text)"
   ]
  },
  {
   "cell_type": "markdown",
   "id": "3cc493e0",
   "metadata": {},
   "source": [
    "Write Python code to create a violin plot visualising the distribution of 'Annual_yield' across different 'Elevation' ranges. Use the provided elevation range categories (Low: < 300m, Medium: 300m - 600m, High: > 600m) to categorise the data before plotting.  Examine the violin plot displaying the distribution of 'Annual Yield' across three elevation categories (Low, Medium, High). What insight does the violin plot provide regarding the relationship between elevation ranges and annual yield distribution?"
   ]
  },
  {
   "cell_type": "code",
   "execution_count": 19,
   "id": "a617d02d",
   "metadata": {},
   "outputs": [
    {
     "data": {
      "image/png": "[encoded data removed]",
      "text/plain": [
       "<Figure size 1000x600 with 1 Axes>"
      ]
     },
     "metadata": {},
     "output_type": "display_data"
    }
   ],
   "source": [
    "# Step 1: Create the elevation category based on the given ranges\n",
    "def categorize_elevation(elevation):\n",
    "    if elevation < 300:\n",
    "        return 'Low'\n",
    "    elif 300 <= elevation <= 600:\n",
    "        return 'Medium'\n",
    "    else:\n",
    "        return 'High'\n",
    "\n",
    "# Apply the categorization function to create a new column in the DataFrame\n",
    "MD_data['Elevation_Category'] = MD_data['Elevation'].apply(categorize_elevation)\n",
    "\n",
    "# Step 2: Create the violin plot\n",
    "plt.figure(figsize=(10, 6))\n",
    "sns.violinplot(x='Elevation_Category', y='Annual_yield', data=MD_data, order=['Low', 'Medium', 'High'])\n",
    "\n",
    "# Step 3: Add titles and labels\n",
    "plt.title('Distribution of Annual Yield across Elevation Ranges')\n",
    "plt.xlabel('Elevation Category')\n",
    "plt.ylabel('Annual Yield')\n",
    "\n",
    "# Show the plot\n",
    "plt.show()"
   ]
  },
  {
   "cell_type": "code",
   "execution_count": 20,
   "id": "b04fb7b9",
   "metadata": {},
   "outputs": [
    {
     "name": "stdout",
     "output_type": "stream",
     "text": [
      "The sum of the integer values for each unique crop type is: 42\n"
     ]
    }
   ],
   "source": [
    "# Assuming each 'Crop_type' contributes an integer value equal to its length (e.g., 'wheat' contributes 5), \n",
    "# write a recursive function to sum the integer values for each unique crop type in the dataset. What is the sum?\n",
    "\n",
    "# Define the list of unique crop types\n",
    "crop_types = [\"rice\", \"maize\", \"coffee\", \"banana\", \"tea\", \"cassava\", \"potato\", \"wheat\"]\n",
    "\n",
    "# Recursive function to sum the lengths of crop types\n",
    "def sum_crop_lengths(crops):\n",
    "    # Base case: if the list is empty, return 0\n",
    "    if not crops:\n",
    "        return 0\n",
    "    # Recursive case: return the length of the first item plus the sum of the remaining items\n",
    "    return len(crops[0]) + sum_crop_lengths(crops[1:])\n",
    "\n",
    "# Calculate the sum\n",
    "total_length = sum_crop_lengths(crop_types)\n",
    "print(\"The sum of the integer values for each unique crop type is:\", total_length)\n"
   ]
  },
  {
   "cell_type": "markdown",
   "id": "59b7fb5e",
   "metadata": {},
   "source": [
    "Write Python code to perform a t-test comparing the average 'Annual_yield' between 'coffee' and 'banana' crop types using scipy.stats. What is the p-value, rounded to three decimal places?"
   ]
  },
  {
   "cell_type": "code",
   "execution_count": 21,
   "id": "23696182",
   "metadata": {},
   "outputs": [
    {
     "name": "stdout",
     "output_type": "stream",
     "text": [
      "The p-value for the t-test comparing 'Annual_yield' between 'coffee' and 'banana' is: 0.598\n"
     ]
    }
   ],
   "source": [
    "import scipy.stats as stats\n",
    "\n",
    "# Filter the DataFrame for 'coffee' and 'banana' crop types\n",
    "coffee_yield = MD_data[MD_data['Crop_type'] == 'coffee']['Annual_yield']\n",
    "banana_yield = MD_data[MD_data['Crop_type'] == 'banana']['Annual_yield']\n",
    "\n",
    "# Perform an independent t-test\n",
    "t_stat, p_value = stats.ttest_ind(coffee_yield, banana_yield, equal_var=False)  # assuming unequal variances\n",
    "\n",
    "# Round the p-value to three decimal places\n",
    "p_value_rounded = round(p_value, 3)\n",
    "\n",
    "print(\"The p-value for the t-test comparing 'Annual_yield' between 'coffee' and 'banana' is:\", p_value_rounded)\n"
   ]
  }
 ],
 "metadata": {
  "kernelspec": {
   "display_name": "Python 3 (ipykernel)",
   "language": "python",
   "name": "python3"
  },
  "language_info": {
   "codemirror_mode": {
    "name": "ipython",
    "version": 3
   },
   "file_extension": ".py",
   "mimetype": "text/x-python",
   "name": "python",
   "nbconvert_exporter": "python",
   "pygments_lexer": "ipython3",
   "version": "3.11.5"
  }
 },
 "nbformat": 4,
 "nbformat_minor": 5
}
